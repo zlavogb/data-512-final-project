{
 "cells": [
  {
   "cell_type": "markdown",
   "metadata": {},
   "source": [
    "# Clean and compile raw data\n",
    "\n",
    "In this first piece of code, we read in the raw Washington and California higher education public employee earnings data and Bureau of Economic Analysis state price parities data. We clean and format these datasets, and save them out for use in `1_analyze_data.ipynb`.\n",
    "\n",
    "\n",
    "First, we will import all the necessary packages we will work with."
   ]
  },
  {
   "cell_type": "code",
   "execution_count": 1,
   "metadata": {},
   "outputs": [
    {
     "name": "stderr",
     "output_type": "stream",
     "text": [
      "Loading required package: data.table\n",
      "\n",
      "Loading required package: stringr\n",
      "\n",
      "Loading required package: readxl\n",
      "\n"
     ]
    }
   ],
   "source": [
    "rm(list = ls())\n",
    "require(data.table)\n",
    "require(stringr)\n",
    "require(readxl)"
   ]
  },
  {
   "cell_type": "markdown",
   "metadata": {},
   "source": [
    "We will start by processing the Washington state earnings data. This is pulled in from two separate files, one containing 2010-2013 data, and another for 2014-2018. We format the columns and filter to keep only higher education employer institutions."
   ]
  },
  {
   "cell_type": "code",
   "execution_count": 2,
   "metadata": {},
   "outputs": [],
   "source": [
    "# Process 2010-2013 data\n",
    "wa_salaries_2010_2013 <- fread(\"../data_raw/WA_Annual_Salary_2010_2013.csv\")\n",
    "setnames(wa_salaries_2010_2013, c(\"Agency\", \"AgencyTitle\", \"Salary2010\", \"Salary2011\", \"Salary2012\", \"Salary2013\"), \n",
    "         c(\"Agy\", \"AgyTitle\", \"Sal2010\", \"Sal2011\", \"Sal2012\", \"Sal2013\"))\n",
    "# Process 2014-2018 data. Note that this dataset is saved out in two separate files due to Github's file size limit\n",
    "wa_salaries_2014_2018_1 <- fread(\"./WA_Annual_Salary_2014_2018_1.csv\")\n",
    "wa_salaries_2014_2018_2 <- fread(\"./WA_Annual_Salary_2014_2018_2.csv\")\n",
    "wa_salaries_2014_2018 <- rbind(wa_salaries_2014_2018_1, wa_salaries_2014_2018_2)\n",
    "\n",
    "# Bind together all years of data, and format columns\n",
    "WA_salaries <- rbind(wa_salaries_2010_2013, wa_salaries_2014_2018, fill = T)\n",
    "WA_salaries <- melt(WA_salaries, id.vars = c(\"Agy\", \"AgyTitle\", \"JobTitle\"), \n",
    "                      variable.name = \"year\", value.name = \"salary\")\n",
    "WA_salaries <- WA_salaries[, year := str_replace(year, \"Sal\", \"\")]\n",
    "WA_salaries <- WA_salaries[, year := as.numeric(as.character(year))]\n",
    "WA_salaries <- WA_salaries[, .(year, employer = AgyTitle, title = JobTitle, salary, state = \"WA\")]\n",
    "  \n",
    "# Filter data to only higher education institutions\n",
    "WA_salaries <- WA_salaries[grepl(\"College\", employer) | grepl(\"University\", employer)]"
   ]
  },
  {
   "cell_type": "markdown",
   "metadata": {},
   "source": [
    "Next, we process the California state earnings data. This data is stored as separate files for each year and each employer agency, so we loop over all the files to read them in, and filter and format the relevant columns."
   ]
  },
  {
   "cell_type": "code",
   "execution_count": 3,
   "metadata": {},
   "outputs": [],
   "source": [
    "# Create lists of all file names containing California earnings data\n",
    "csu_files <- list.files(path = \"../data_raw/\", pattern = \"*_CaliforniaStateUniversity.csv\", full.names = TRUE)\n",
    "uc_files <- list.files(path = \"../data_raw/\", pattern = \"*_UniversityOfCalifornia.csv\", full.names = TRUE)\n",
    "colleges_files <- list.files(path = \"../data_raw/\", pattern = \"*_CommunityCollegeDistrict.csv\", full.names = TRUE)\n",
    "all_files <- c(csu_files, uc_files, colleges_files)\n",
    "  \n",
    "# Loop over all file names and append together\n",
    "CA_salaries <- fread(all_files[1])\n",
    "for (i in 2:length(all_files)) {\n",
    "    dt <- fread(all_files[i])\n",
    "    CA_salaries <- rbind(CA_salaries, dt, fill = T)\n",
    "}\n",
    "\n",
    "# Fill in specific names for community colleges\n",
    "CA_salaries[EmployerType == \"Community College District\", EmployerType := EmployerName]\n",
    "\n",
    "  \n",
    "# Format columns  \n",
    "# Note the two job title fields; we append these together in order to get more detailed information\n",
    "CA_salaries <- CA_salaries[, .(year = Year, employer = EmployerType, \n",
    "                                 title = paste(Position, \";\", OtherPositions), salary = TotalWages, state = \"CA\")]\n",
    "\n",
    "# Fix encoded characters in job titles so we can uppercase them\n",
    "CA_salaries[, title := toupper(iconv(title, from = \"latin1\", to = \"UTF-8\"))]"
   ]
  },
  {
   "cell_type": "markdown",
   "metadata": {},
   "source": [
    "Finally, append the Washington and California data and save out a cleaned file containing only 2018 data, due to Github's file size limits."
   ]
  },
  {
   "cell_type": "code",
   "execution_count": 4,
   "metadata": {},
   "outputs": [],
   "source": [
    "salaries <- rbind(WA_salaries, CA_salaries, fill = T)\n",
    "# Drop missing salary data\n",
    "salaries <- salaries[!(is.na(salary)) & salary > 0]\n",
    "  \n",
    "# Format job titles\n",
    "salaries[, title := gsub(\"[.]\",\"\",title)]\n",
    "salaries[, title := gsub(\"-\",\"\",title)]\n",
    "salaries <- salaries[, title := paste0(\" \", title, \" \")]\n",
    "  \n",
    "fwrite(salaries[year == 2018], \"../data_clean/edu_salaries.csv\")"
   ]
  },
  {
   "cell_type": "markdown",
   "metadata": {},
   "source": [
    "Next, we read in state all-sector purchasing price parities data in two separate files containing 2017 and 2008-2016, format the data, append, and save out. Note that we don't have data through 2018 so we assume that 2018 values are equal to 2017 values."
   ]
  },
  {
   "cell_type": "code",
   "execution_count": 5,
   "metadata": {},
   "outputs": [
    {
     "name": "stderr",
     "output_type": "stream",
     "text": [
      "Warning message in fread(\"../data_raw/SARPP_STATE_2008_2016.csv\"):\n",
      "“Stopped early on line 210. Expected 17 fields but found 1. Consider fill=TRUE and comment.char=. First discarded non-empty line: <<\"Note: See the included footnote file.\">>”\n",
      "Warning message in melt.data.table(ppp_2008_2016, id.vars = c(\"GeoName\"), variable.name = \"year\"):\n",
      "“'measure.vars' [GeoFIPS, Region, TableName, LineCode, ...] are not all of the same type. By order of hierarchy, the molten data value column will be of type 'character'. All measure variables not of type 'character' will be coerced too. Check DETAILS in ?melt.data.table for more on coercion.”\n"
     ]
    }
   ],
   "source": [
    "# Process 2017 data\n",
    "ppp_2017 <- fread(\"../data_raw/SARPP_STATE_2017.csv\")[, 1:2]\n",
    "ppp_2017 <- ppp_2017[V1 %in% c(\"California\", \"Washington\")]  \n",
    "ppp_2017 <- ppp_2017[, .(state = V1, year = 2017, adj = as.integer(V2) / 100)]\n",
    " \n",
    "# Process 2008-2016 data\n",
    "ppp_2008_2016 <- fread(\"../data_raw/SARPP_STATE_2008_2016.csv\")\n",
    "ppp_2008_2016 <- ppp_2008_2016[Description == \"RPPs: All items\" & GeoName %in% c(\"California\", \"Washington\")]\n",
    "ppp_2008_2016 <- melt(ppp_2008_2016, id.vars = c(\"GeoName\"), variable.name = \"year\")\n",
    "ppp_2008_2016 <- ppp_2008_2016[19:32]\n",
    "ppp_2008_2016 <- ppp_2008_2016[, .(state = GeoName, year = as.integer(as.character(year)), adj = as.integer(value) / 100)]\n",
    "  \n",
    "# Bind together all years, adding an extra 2018 row\n",
    "ppp <- rbind(ppp_2008_2016, ppp_2017, copy(ppp_2017)[, year := 2018])\n",
    "ppp[state == \"Washington\", state := \"WA\"]\n",
    "ppp[state == \"California\", state := \"CA\"]\n",
    "  \n",
    "fwrite(ppp, \"../data_clean/state_ppp.csv\")"
   ]
  }
 ],
 "metadata": {
  "kernelspec": {
   "display_name": "R",
   "language": "R",
   "name": "ir"
  },
  "language_info": {
   "codemirror_mode": "r",
   "file_extension": ".r",
   "mimetype": "text/x-r-source",
   "name": "R",
   "pygments_lexer": "r",
   "version": "3.5.2"
  }
 },
 "nbformat": 4,
 "nbformat_minor": 2
}
